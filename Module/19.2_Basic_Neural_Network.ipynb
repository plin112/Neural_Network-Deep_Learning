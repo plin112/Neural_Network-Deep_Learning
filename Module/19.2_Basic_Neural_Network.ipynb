{
 "cells": [
  {
   "cell_type": "code",
   "execution_count": 2,
   "metadata": {},
   "outputs": [],
   "source": [
    "# Import our dependencies\n",
    "import pandas as pd\n",
    "import matplotlib as plt\n",
    "from sklearn.datasets import make_blobs\n",
    "import sklearn as skl\n",
    "import tensorflow as tf"
   ]
  },
  {
   "cell_type": "code",
   "execution_count": 3,
   "metadata": {},
   "outputs": [
    {
     "data": {
      "text/plain": [
       "<matplotlib.axes._subplots.AxesSubplot at 0x7f90f792f5d0>"
      ]
     },
     "execution_count": 3,
     "metadata": {},
     "output_type": "execute_result"
    },
    {
     "data": {
      "image/png": "[encoded data removed]",
      "text/plain": [
       "<Figure size 432x288 with 2 Axes>"
      ]
     },
     "metadata": {
      "needs_background": "light"
     },
     "output_type": "display_data"
    }
   ],
   "source": [
    "# Generate dummy dataset\n",
    "X, y = make_blobs(n_samples=1000, centers=2, n_features=2, random_state=78)\n",
    "\n",
    "# Creating a DataFrame with the dummy data\n",
    "df = pd.DataFrame(X, columns=[\"Feature 1\", \"Feature 2\"])\n",
    "df[\"Target\"] = y\n",
    "\n",
    "# Plotting the dummy data\n",
    "df.plot.scatter(x=\"Feature 1\", y=\"Feature 2\", c=\"Target\", colormap=\"winter\")"
   ]
  },
  {
   "cell_type": "code",
   "execution_count": 4,
   "metadata": {},
   "outputs": [],
   "source": [
    "# Use sklearn to split dataset\n",
    "from sklearn.model_selection import train_test_split\n",
    "X_train, X_test, y_train, y_test = train_test_split(X, y, random_state=78)"
   ]
  },
  {
   "cell_type": "code",
   "execution_count": 5,
   "metadata": {},
   "outputs": [],
   "source": [
    "# Create scaler instance\n",
    "X_scaler = skl.preprocessing.StandardScaler()\n",
    "\n",
    "# Fit the scaler\n",
    "X_scaler.fit(X_train)\n",
    "\n",
    "# Scale the data\n",
    "X_train_scaled = X_scaler.transform(X_train)\n",
    "X_test_scaled = X_scaler.transform(X_test)"
   ]
  },
  {
   "cell_type": "code",
   "execution_count": 6,
   "metadata": {},
   "outputs": [],
   "source": [
    "# Create the Keras Sequential model\n",
    "nn_model = tf.keras.models.Sequential()"
   ]
  },
  {
   "cell_type": "code",
   "execution_count": 7,
   "metadata": {},
   "outputs": [],
   "source": [
    "# Add our first Dense layer, including the input layer\n",
    "nn_model.add(tf.keras.layers.Dense(units=1, \n",
    "                                   activation=\"relu\", \n",
    "                                   input_dim=2))"
   ]
  },
  {
   "cell_type": "code",
   "execution_count": 8,
   "metadata": {},
   "outputs": [],
   "source": [
    "# Add the output layer that uses a probability activation function\n",
    "nn_model.add(tf.keras.layers.Dense(units=1, activation=\"sigmoid\"))"
   ]
  },
  {
   "cell_type": "code",
   "execution_count": 9,
   "metadata": {},
   "outputs": [
    {
     "name": "stdout",
     "output_type": "stream",
     "text": [
      "Model: \"sequential\"\n",
      "_________________________________________________________________\n",
      "Layer (type)                 Output Shape              Param #   \n",
      "=================================================================\n",
      "dense (Dense)                (None, 1)                 3         \n",
      "_________________________________________________________________\n",
      "dense_1 (Dense)              (None, 1)                 2         \n",
      "=================================================================\n",
      "Total params: 5\n",
      "Trainable params: 5\n",
      "Non-trainable params: 0\n",
      "_________________________________________________________________\n"
     ]
    }
   ],
   "source": [
    "# Check the structure of the Sequential model\n",
    "nn_model.summary()"
   ]
  },
  {
   "cell_type": "code",
   "execution_count": 10,
   "metadata": {},
   "outputs": [],
   "source": [
    "# Compile the Sequential model together and customize metrics\n",
    "nn_model.compile(loss=\"binary_crossentropy\", optimizer=\"adam\", metrics=[\"accuracy\"])\n"
   ]
  },
  {
   "cell_type": "code",
   "execution_count": 11,
   "metadata": {},
   "outputs": [
    {
     "name": "stdout",
     "output_type": "stream",
     "text": [
      "Epoch 1/100\n",
      "24/24 [==============================] - 0s 719us/step - loss: 0.7259 - accuracy: 0.0520\n",
      "Epoch 2/100\n",
      "24/24 [==============================] - 0s 863us/step - loss: 0.7097 - accuracy: 0.2040\n",
      "Epoch 3/100\n",
      "24/24 [==============================] - 0s 747us/step - loss: 0.7007 - accuracy: 0.3627\n",
      "Epoch 4/100\n",
      "24/24 [==============================] - 0s 723us/step - loss: 0.6946 - accuracy: 0.4707\n",
      "Epoch 5/100\n",
      "24/24 [==============================] - 0s 728us/step - loss: 0.6896 - accuracy: 0.5467\n",
      "Epoch 6/100\n",
      "24/24 [==============================] - 0s 721us/step - loss: 0.6827 - accuracy: 0.6520\n",
      "Epoch 7/100\n",
      "24/24 [==============================] - 0s 753us/step - loss: 0.6728 - accuracy: 0.7240\n",
      "Epoch 8/100\n",
      "24/24 [==============================] - 0s 751us/step - loss: 0.6602 - accuracy: 0.7827\n",
      "Epoch 9/100\n",
      "24/24 [==============================] - 0s 752us/step - loss: 0.6442 - accuracy: 0.8347\n",
      "Epoch 10/100\n",
      "24/24 [==============================] - 0s 713us/step - loss: 0.6257 - accuracy: 0.8760\n",
      "Epoch 11/100\n",
      "24/24 [==============================] - 0s 773us/step - loss: 0.6057 - accuracy: 0.8933\n",
      "Epoch 12/100\n",
      "24/24 [==============================] - 0s 765us/step - loss: 0.5853 - accuracy: 0.9160\n",
      "Epoch 13/100\n",
      "24/24 [==============================] - 0s 792us/step - loss: 0.5650 - accuracy: 0.9253\n",
      "Epoch 14/100\n",
      "24/24 [==============================] - 0s 734us/step - loss: 0.5448 - accuracy: 0.9347\n",
      "Epoch 15/100\n",
      "24/24 [==============================] - 0s 804us/step - loss: 0.5252 - accuracy: 0.9467\n",
      "Epoch 16/100\n",
      "24/24 [==============================] - 0s 818us/step - loss: 0.5066 - accuracy: 0.9560\n",
      "Epoch 17/100\n",
      "24/24 [==============================] - 0s 857us/step - loss: 0.4886 - accuracy: 0.9667\n",
      "Epoch 18/100\n",
      "24/24 [==============================] - 0s 847us/step - loss: 0.4717 - accuracy: 0.9707\n",
      "Epoch 19/100\n",
      "24/24 [==============================] - 0s 927us/step - loss: 0.4557 - accuracy: 0.9733\n",
      "Epoch 20/100\n",
      "24/24 [==============================] - 0s 887us/step - loss: 0.4403 - accuracy: 0.9747\n",
      "Epoch 21/100\n",
      "24/24 [==============================] - 0s 838us/step - loss: 0.4258 - accuracy: 0.9760\n",
      "Epoch 22/100\n",
      "24/24 [==============================] - 0s 873us/step - loss: 0.4120 - accuracy: 0.9773\n",
      "Epoch 23/100\n",
      "24/24 [==============================] - 0s 774us/step - loss: 0.3987 - accuracy: 0.9773\n",
      "Epoch 24/100\n",
      "24/24 [==============================] - 0s 663us/step - loss: 0.3862 - accuracy: 0.9773\n",
      "Epoch 25/100\n",
      "24/24 [==============================] - 0s 959us/step - loss: 0.3743 - accuracy: 0.9787\n",
      "Epoch 26/100\n",
      "24/24 [==============================] - 0s 853us/step - loss: 0.3629 - accuracy: 0.9800\n",
      "Epoch 27/100\n",
      "24/24 [==============================] - 0s 681us/step - loss: 0.3521 - accuracy: 0.9827\n",
      "Epoch 28/100\n",
      "24/24 [==============================] - 0s 907us/step - loss: 0.3418 - accuracy: 0.9840\n",
      "Epoch 29/100\n",
      "24/24 [==============================] - 0s 871us/step - loss: 0.3320 - accuracy: 0.9853\n",
      "Epoch 30/100\n",
      "24/24 [==============================] - 0s 672us/step - loss: 0.3225 - accuracy: 0.9867\n",
      "Epoch 31/100\n",
      "24/24 [==============================] - 0s 956us/step - loss: 0.3135 - accuracy: 0.9880\n",
      "Epoch 32/100\n",
      "24/24 [==============================] - 0s 822us/step - loss: 0.3049 - accuracy: 0.9880\n",
      "Epoch 33/100\n",
      "24/24 [==============================] - 0s 825us/step - loss: 0.2966 - accuracy: 0.9893\n",
      "Epoch 34/100\n",
      "24/24 [==============================] - 0s 921us/step - loss: 0.2887 - accuracy: 0.9907\n",
      "Epoch 35/100\n",
      "24/24 [==============================] - 0s 758us/step - loss: 0.2811 - accuracy: 0.9907\n",
      "Epoch 36/100\n",
      "24/24 [==============================] - 0s 854us/step - loss: 0.2738 - accuracy: 0.9907\n",
      "Epoch 37/100\n",
      "24/24 [==============================] - 0s 754us/step - loss: 0.2668 - accuracy: 0.9907\n",
      "Epoch 38/100\n",
      "24/24 [==============================] - 0s 799us/step - loss: 0.2600 - accuracy: 0.9907\n",
      "Epoch 39/100\n",
      "24/24 [==============================] - 0s 688us/step - loss: 0.2535 - accuracy: 0.9907\n",
      "Epoch 40/100\n",
      "24/24 [==============================] - 0s 794us/step - loss: 0.2472 - accuracy: 0.9947\n",
      "Epoch 41/100\n",
      "24/24 [==============================] - 0s 713us/step - loss: 0.2412 - accuracy: 0.9947\n",
      "Epoch 42/100\n",
      "24/24 [==============================] - 0s 716us/step - loss: 0.2354 - accuracy: 0.9947\n",
      "Epoch 43/100\n",
      "24/24 [==============================] - 0s 664us/step - loss: 0.2297 - accuracy: 0.9960\n",
      "Epoch 44/100\n",
      "24/24 [==============================] - 0s 706us/step - loss: 0.2243 - accuracy: 0.9960\n",
      "Epoch 45/100\n",
      "24/24 [==============================] - 0s 721us/step - loss: 0.2191 - accuracy: 0.9960\n",
      "Epoch 46/100\n",
      "24/24 [==============================] - 0s 679us/step - loss: 0.2140 - accuracy: 0.9960\n",
      "Epoch 47/100\n",
      "24/24 [==============================] - 0s 725us/step - loss: 0.2091 - accuracy: 0.9960\n",
      "Epoch 48/100\n",
      "24/24 [==============================] - 0s 699us/step - loss: 0.2044 - accuracy: 0.9960\n",
      "Epoch 49/100\n",
      "24/24 [==============================] - 0s 683us/step - loss: 0.1998 - accuracy: 0.9960\n",
      "Epoch 50/100\n",
      "24/24 [==============================] - 0s 709us/step - loss: 0.1954 - accuracy: 0.9960\n",
      "Epoch 51/100\n",
      "24/24 [==============================] - 0s 700us/step - loss: 0.1911 - accuracy: 0.9960\n",
      "Epoch 52/100\n",
      "24/24 [==============================] - 0s 713us/step - loss: 0.1869 - accuracy: 0.9973\n",
      "Epoch 53/100\n",
      "24/24 [==============================] - 0s 842us/step - loss: 0.1829 - accuracy: 0.9973\n",
      "Epoch 54/100\n",
      "24/24 [==============================] - 0s 754us/step - loss: 0.1790 - accuracy: 0.9987\n",
      "Epoch 55/100\n",
      "24/24 [==============================] - 0s 726us/step - loss: 0.1752 - accuracy: 0.9987\n",
      "Epoch 56/100\n",
      "24/24 [==============================] - 0s 747us/step - loss: 0.1715 - accuracy: 0.9987\n",
      "Epoch 57/100\n",
      "24/24 [==============================] - 0s 787us/step - loss: 0.1679 - accuracy: 0.9987\n",
      "Epoch 58/100\n",
      "24/24 [==============================] - 0s 782us/step - loss: 0.1645 - accuracy: 0.9987\n",
      "Epoch 59/100\n",
      "24/24 [==============================] - 0s 758us/step - loss: 0.1611 - accuracy: 0.9987\n",
      "Epoch 60/100\n",
      "24/24 [==============================] - 0s 734us/step - loss: 0.1578 - accuracy: 0.9987\n",
      "Epoch 61/100\n",
      "24/24 [==============================] - 0s 774us/step - loss: 0.1547 - accuracy: 0.9987\n",
      "Epoch 62/100\n",
      "24/24 [==============================] - 0s 672us/step - loss: 0.1516 - accuracy: 0.9987\n",
      "Epoch 63/100\n",
      "24/24 [==============================] - 0s 714us/step - loss: 0.1486 - accuracy: 0.9987\n",
      "Epoch 64/100\n",
      "24/24 [==============================] - 0s 716us/step - loss: 0.1457 - accuracy: 0.9987\n",
      "Epoch 65/100\n",
      "24/24 [==============================] - 0s 675us/step - loss: 0.1429 - accuracy: 1.0000\n",
      "Epoch 66/100\n",
      "24/24 [==============================] - 0s 709us/step - loss: 0.1402 - accuracy: 1.0000\n",
      "Epoch 67/100\n",
      "24/24 [==============================] - 0s 707us/step - loss: 0.1375 - accuracy: 1.0000\n",
      "Epoch 68/100\n",
      "24/24 [==============================] - 0s 710us/step - loss: 0.1349 - accuracy: 1.0000\n",
      "Epoch 69/100\n",
      "24/24 [==============================] - 0s 731us/step - loss: 0.1324 - accuracy: 1.0000\n",
      "Epoch 70/100\n",
      "24/24 [==============================] - 0s 684us/step - loss: 0.1299 - accuracy: 1.0000\n",
      "Epoch 71/100\n",
      "24/24 [==============================] - 0s 677us/step - loss: 0.1276 - accuracy: 1.0000\n",
      "Epoch 72/100\n",
      "24/24 [==============================] - 0s 681us/step - loss: 0.1252 - accuracy: 1.0000\n",
      "Epoch 73/100\n",
      "24/24 [==============================] - 0s 684us/step - loss: 0.1230 - accuracy: 1.0000\n",
      "Epoch 74/100\n",
      "24/24 [==============================] - 0s 709us/step - loss: 0.1207 - accuracy: 1.0000\n",
      "Epoch 75/100\n",
      "24/24 [==============================] - 0s 697us/step - loss: 0.1186 - accuracy: 1.0000\n",
      "Epoch 76/100\n",
      "24/24 [==============================] - 0s 708us/step - loss: 0.1165 - accuracy: 1.0000\n",
      "Epoch 77/100\n",
      "24/24 [==============================] - 0s 702us/step - loss: 0.1144 - accuracy: 1.0000\n",
      "Epoch 78/100\n",
      "24/24 [==============================] - 0s 674us/step - loss: 0.1124 - accuracy: 1.0000\n",
      "Epoch 79/100\n",
      "24/24 [==============================] - 0s 712us/step - loss: 0.1105 - accuracy: 1.0000\n",
      "Epoch 80/100\n",
      "24/24 [==============================] - 0s 827us/step - loss: 0.1086 - accuracy: 1.0000\n",
      "Epoch 81/100\n"
     ]
    },
    {
     "name": "stdout",
     "output_type": "stream",
     "text": [
      "24/24 [==============================] - 0s 864us/step - loss: 0.1067 - accuracy: 1.0000\n",
      "Epoch 82/100\n",
      "24/24 [==============================] - 0s 909us/step - loss: 0.1049 - accuracy: 1.0000\n",
      "Epoch 83/100\n",
      "24/24 [==============================] - 0s 794us/step - loss: 0.1031 - accuracy: 1.0000\n",
      "Epoch 84/100\n",
      "24/24 [==============================] - 0s 772us/step - loss: 0.1014 - accuracy: 1.0000\n",
      "Epoch 85/100\n",
      "24/24 [==============================] - 0s 846us/step - loss: 0.0997 - accuracy: 1.0000\n",
      "Epoch 86/100\n",
      "24/24 [==============================] - 0s 805us/step - loss: 0.0980 - accuracy: 1.0000\n",
      "Epoch 87/100\n",
      "24/24 [==============================] - 0s 733us/step - loss: 0.0964 - accuracy: 1.0000\n",
      "Epoch 88/100\n",
      "24/24 [==============================] - 0s 676us/step - loss: 0.0948 - accuracy: 1.0000\n",
      "Epoch 89/100\n",
      "24/24 [==============================] - 0s 733us/step - loss: 0.0933 - accuracy: 1.0000\n",
      "Epoch 90/100\n",
      "24/24 [==============================] - 0s 680us/step - loss: 0.0917 - accuracy: 1.0000\n",
      "Epoch 91/100\n",
      "24/24 [==============================] - 0s 682us/step - loss: 0.0903 - accuracy: 1.0000\n",
      "Epoch 92/100\n",
      "24/24 [==============================] - 0s 708us/step - loss: 0.0888 - accuracy: 1.0000\n",
      "Epoch 93/100\n",
      "24/24 [==============================] - 0s 766us/step - loss: 0.0874 - accuracy: 1.0000\n",
      "Epoch 94/100\n",
      "24/24 [==============================] - 0s 769us/step - loss: 0.0860 - accuracy: 1.0000\n",
      "Epoch 95/100\n",
      "24/24 [==============================] - 0s 768us/step - loss: 0.0847 - accuracy: 1.0000\n",
      "Epoch 96/100\n",
      "24/24 [==============================] - 0s 740us/step - loss: 0.0833 - accuracy: 1.0000\n",
      "Epoch 97/100\n",
      "24/24 [==============================] - 0s 747us/step - loss: 0.0820 - accuracy: 1.0000\n",
      "Epoch 98/100\n",
      "24/24 [==============================] - 0s 843us/step - loss: 0.0808 - accuracy: 1.0000\n",
      "Epoch 99/100\n",
      "24/24 [==============================] - 0s 821us/step - loss: 0.0795 - accuracy: 1.0000\n",
      "Epoch 100/100\n",
      "24/24 [==============================] - 0s 832us/step - loss: 0.0783 - accuracy: 1.0000\n"
     ]
    }
   ],
   "source": [
    "# Fit the model to the training data\n",
    "fit_model = nn_model.fit(X_train_scaled, y_train, epochs=100)"
   ]
  },
  {
   "cell_type": "code",
   "execution_count": 12,
   "metadata": {},
   "outputs": [
    {
     "data": {
      "text/plain": [
       "<matplotlib.axes._subplots.AxesSubplot at 0x7f90f8207e50>"
      ]
     },
     "execution_count": 12,
     "metadata": {},
     "output_type": "execute_result"
    },
    {
     "data": {
      "image/png": "[encoded data removed]",
      "text/plain": [
       "<Figure size 432x288 with 1 Axes>"
      ]
     },
     "metadata": {
      "needs_background": "light"
     },
     "output_type": "display_data"
    }
   ],
   "source": [
    "# Create a DataFrame containing training history\n",
    "history_df = pd.DataFrame(fit_model.history, index=range(1,len(fit_model.history[\"loss\"])+1))\n",
    "\n",
    "# Plot the loss\n",
    "history_df.plot(y=\"loss\")"
   ]
  },
  {
   "cell_type": "code",
   "execution_count": 13,
   "metadata": {},
   "outputs": [
    {
     "data": {
      "text/plain": [
       "<matplotlib.axes._subplots.AxesSubplot at 0x7f90d981d610>"
      ]
     },
     "execution_count": 13,
     "metadata": {},
     "output_type": "execute_result"
    },
    {
     "data": {
      "image/png": "[encoded data removed]",
      "text/plain": [
       "<Figure size 432x288 with 1 Axes>"
      ]
     },
     "metadata": {
      "needs_background": "light"
     },
     "output_type": "display_data"
    }
   ],
   "source": [
    "# Plot the accuracy\n",
    "history_df.plot(y=\"accuracy\")\n"
   ]
  },
  {
   "cell_type": "code",
   "execution_count": 14,
   "metadata": {},
   "outputs": [
    {
     "name": "stdout",
     "output_type": "stream",
     "text": [
      "8/8 - 0s - loss: 0.0732 - accuracy: 1.0000\n",
      "Loss: 0.07318449765443802, Accuracy: 1.0\n"
     ]
    }
   ],
   "source": [
    "# Evaluate the model using the test data\n",
    "model_loss, model_accuracy = nn_model.evaluate(X_test_scaled,y_test,verbose=2)\n",
    "print(f\"Loss: {model_loss}, Accuracy: {model_accuracy}\")"
   ]
  },
  {
   "cell_type": "code",
   "execution_count": 15,
   "metadata": {},
   "outputs": [
    {
     "name": "stdout",
     "output_type": "stream",
     "text": [
      "WARNING:tensorflow:From <ipython-input-15-25062c5bd63e>:4: Sequential.predict_classes (from tensorflow.python.keras.engine.sequential) is deprecated and will be removed after 2021-01-01.\n",
      "Instructions for updating:\n",
      "Please use instead:* `np.argmax(model.predict(x), axis=-1)`,   if your model does multi-class classification   (e.g. if it uses a `softmax` last-layer activation).* `(model.predict(x) > 0.5).astype(\"int32\")`,   if your model does binary classification   (e.g. if it uses a `sigmoid` last-layer activation).\n"
     ]
    },
    {
     "data": {
      "text/plain": [
       "array([[0],\n",
       "       [1],\n",
       "       [0],\n",
       "       [1],\n",
       "       [0],\n",
       "       [0],\n",
       "       [1],\n",
       "       [1],\n",
       "       [1],\n",
       "       [0]], dtype=int32)"
      ]
     },
     "execution_count": 15,
     "metadata": {},
     "output_type": "execute_result"
    }
   ],
   "source": [
    "# Predict the classification of a new set of blob data\n",
    "new_X, new_Y = make_blobs(n_samples=10, centers=2, n_features=2, random_state=78)\n",
    "new_X_scaled = X_scaler.transform(new_X)\n",
    "nn_model.predict_classes(new_X_scaled)"
   ]
  },
  {
   "cell_type": "code",
   "execution_count": 16,
   "metadata": {},
   "outputs": [
    {
     "data": {
      "text/plain": [
       "<matplotlib.axes._subplots.AxesSubplot at 0x7f90d9984290>"
      ]
     },
     "execution_count": 16,
     "metadata": {},
     "output_type": "execute_result"
    },
    {
     "data": {
      "image/png": "[encoded data removed]",
      "text/plain": [
       "<Figure size 432x288 with 2 Axes>"
      ]
     },
     "metadata": {
      "needs_background": "light"
     },
     "output_type": "display_data"
    }
   ],
   "source": [
    "from sklearn.datasets import make_moons\n",
    "\n",
    "# Creating dummy nonlinear data\n",
    "X_moons, y_moons = make_moons(n_samples=1000, noise=0.08, random_state=78)\n",
    "\n",
    "# Transforming y_moons to a vertical vector\n",
    "y_moons = y_moons.reshape(-1, 1)\n",
    "\n",
    "# Creating a DataFrame to plot the nonlinear dummy data\n",
    "df_moons = pd.DataFrame(X_moons, columns=[\"Feature 1\", \"Feature 2\"])\n",
    "df_moons[\"Target\"] = y_moons\n",
    "\n",
    "# Plot the nonlinear dummy data\n",
    "df_moons.plot.scatter(x=\"Feature 1\",y=\"Feature 2\", c=\"Target\",colormap=\"winter\")"
   ]
  },
  {
   "cell_type": "code",
   "execution_count": 17,
   "metadata": {},
   "outputs": [],
   "source": [
    "# Create training and testing sets\n",
    "X_moon_train, X_moon_test, y_moon_train, y_moon_test = train_test_split(\n",
    "    X_moons, y_moons, random_state=78\n",
    ")\n",
    "\n",
    "# Create the scaler instance\n",
    "X_moon_scaler = skl.preprocessing.StandardScaler()\n",
    "\n",
    "# Fit the scaler\n",
    "X_moon_scaler.fit(X_moon_train)\n",
    "\n",
    "# Scale the data\n",
    "X_moon_train_scaled = X_moon_scaler.transform(X_moon_train)\n",
    "X_moon_test_scaled = X_moon_scaler.transform(X_moon_test)\n"
   ]
  },
  {
   "cell_type": "code",
   "execution_count": 18,
   "metadata": {},
   "outputs": [
    {
     "name": "stdout",
     "output_type": "stream",
     "text": [
      "Epoch 1/100\n",
      "24/24 [==============================] - 0s 1ms/step - loss: 1.0339 - accuracy: 0.4787\n",
      "Epoch 2/100\n",
      "24/24 [==============================] - 0s 1ms/step - loss: 0.8704 - accuracy: 0.5227\n",
      "Epoch 3/100\n",
      "24/24 [==============================] - 0s 1ms/step - loss: 0.7671 - accuracy: 0.5480\n",
      "Epoch 4/100\n",
      "24/24 [==============================] - 0s 1ms/step - loss: 0.6991 - accuracy: 0.5813\n",
      "Epoch 5/100\n",
      "24/24 [==============================] - 0s 1ms/step - loss: 0.6492 - accuracy: 0.6067\n",
      "Epoch 6/100\n",
      "24/24 [==============================] - 0s 935us/step - loss: 0.6092 - accuracy: 0.6240\n",
      "Epoch 7/100\n",
      "24/24 [==============================] - 0s 1ms/step - loss: 0.5757 - accuracy: 0.6533\n",
      "Epoch 8/100\n",
      "24/24 [==============================] - 0s 1ms/step - loss: 0.5479 - accuracy: 0.6667\n",
      "Epoch 9/100\n",
      "24/24 [==============================] - 0s 1ms/step - loss: 0.5230 - accuracy: 0.6800\n",
      "Epoch 10/100\n",
      "24/24 [==============================] - 0s 1ms/step - loss: 0.5014 - accuracy: 0.6920\n",
      "Epoch 11/100\n",
      "24/24 [==============================] - 0s 1ms/step - loss: 0.4824 - accuracy: 0.7067\n",
      "Epoch 12/100\n",
      "24/24 [==============================] - 0s 1ms/step - loss: 0.4651 - accuracy: 0.7187\n",
      "Epoch 13/100\n",
      "24/24 [==============================] - 0s 1ms/step - loss: 0.4496 - accuracy: 0.7320\n",
      "Epoch 14/100\n",
      "24/24 [==============================] - 0s 1ms/step - loss: 0.4353 - accuracy: 0.7413\n",
      "Epoch 15/100\n",
      "24/24 [==============================] - 0s 1ms/step - loss: 0.4226 - accuracy: 0.7600\n",
      "Epoch 16/100\n",
      "24/24 [==============================] - 0s 1ms/step - loss: 0.4108 - accuracy: 0.7693\n",
      "Epoch 17/100\n",
      "24/24 [==============================] - 0s 1ms/step - loss: 0.3998 - accuracy: 0.7813\n",
      "Epoch 18/100\n",
      "24/24 [==============================] - 0s 1ms/step - loss: 0.3897 - accuracy: 0.7840\n",
      "Epoch 19/100\n",
      "24/24 [==============================] - 0s 977us/step - loss: 0.3802 - accuracy: 0.7920\n",
      "Epoch 20/100\n",
      "24/24 [==============================] - 0s 1ms/step - loss: 0.3710 - accuracy: 0.7987\n",
      "Epoch 21/100\n",
      "24/24 [==============================] - 0s 1ms/step - loss: 0.3627 - accuracy: 0.7987\n",
      "Epoch 22/100\n",
      "24/24 [==============================] - 0s 1ms/step - loss: 0.3551 - accuracy: 0.8067\n",
      "Epoch 23/100\n",
      "24/24 [==============================] - 0s 1ms/step - loss: 0.3482 - accuracy: 0.8160\n",
      "Epoch 24/100\n",
      "24/24 [==============================] - 0s 1ms/step - loss: 0.3420 - accuracy: 0.8213\n",
      "Epoch 25/100\n",
      "24/24 [==============================] - 0s 1ms/step - loss: 0.3363 - accuracy: 0.8280\n",
      "Epoch 26/100\n",
      "24/24 [==============================] - 0s 1ms/step - loss: 0.3312 - accuracy: 0.8347\n",
      "Epoch 27/100\n",
      "24/24 [==============================] - 0s 1ms/step - loss: 0.3266 - accuracy: 0.8427\n",
      "Epoch 28/100\n",
      "24/24 [==============================] - 0s 1ms/step - loss: 0.3226 - accuracy: 0.8453\n",
      "Epoch 29/100\n",
      "24/24 [==============================] - 0s 1ms/step - loss: 0.3186 - accuracy: 0.8480\n",
      "Epoch 30/100\n",
      "24/24 [==============================] - 0s 1ms/step - loss: 0.3153 - accuracy: 0.8533\n",
      "Epoch 31/100\n",
      "24/24 [==============================] - 0s 1ms/step - loss: 0.3120 - accuracy: 0.8560\n",
      "Epoch 32/100\n",
      "24/24 [==============================] - 0s 1ms/step - loss: 0.3091 - accuracy: 0.8613\n",
      "Epoch 33/100\n",
      "24/24 [==============================] - 0s 1ms/step - loss: 0.3063 - accuracy: 0.8667\n",
      "Epoch 34/100\n",
      "24/24 [==============================] - 0s 1ms/step - loss: 0.3039 - accuracy: 0.8667\n",
      "Epoch 35/100\n",
      "24/24 [==============================] - 0s 1ms/step - loss: 0.3015 - accuracy: 0.8667\n",
      "Epoch 36/100\n",
      "24/24 [==============================] - 0s 1ms/step - loss: 0.2994 - accuracy: 0.8667\n",
      "Epoch 37/100\n",
      "24/24 [==============================] - 0s 1ms/step - loss: 0.2973 - accuracy: 0.8707\n",
      "Epoch 38/100\n",
      "24/24 [==============================] - 0s 1ms/step - loss: 0.2954 - accuracy: 0.8707\n",
      "Epoch 39/100\n",
      "24/24 [==============================] - 0s 1ms/step - loss: 0.2937 - accuracy: 0.8707\n",
      "Epoch 40/100\n",
      "24/24 [==============================] - 0s 1ms/step - loss: 0.2921 - accuracy: 0.8720\n",
      "Epoch 41/100\n",
      "24/24 [==============================] - 0s 1ms/step - loss: 0.2906 - accuracy: 0.8720\n",
      "Epoch 42/100\n",
      "24/24 [==============================] - 0s 1ms/step - loss: 0.2891 - accuracy: 0.8733\n",
      "Epoch 43/100\n",
      "24/24 [==============================] - 0s 1ms/step - loss: 0.2878 - accuracy: 0.8733\n",
      "Epoch 44/100\n",
      "24/24 [==============================] - 0s 1ms/step - loss: 0.2865 - accuracy: 0.8733\n",
      "Epoch 45/100\n",
      "24/24 [==============================] - 0s 1ms/step - loss: 0.2852 - accuracy: 0.8733\n",
      "Epoch 46/100\n",
      "24/24 [==============================] - 0s 1ms/step - loss: 0.2840 - accuracy: 0.8760\n",
      "Epoch 47/100\n",
      "24/24 [==============================] - 0s 1ms/step - loss: 0.2830 - accuracy: 0.8800\n",
      "Epoch 48/100\n",
      "24/24 [==============================] - 0s 1ms/step - loss: 0.2819 - accuracy: 0.8813\n",
      "Epoch 49/100\n",
      "24/24 [==============================] - 0s 1ms/step - loss: 0.2809 - accuracy: 0.8827\n",
      "Epoch 50/100\n",
      "24/24 [==============================] - 0s 1ms/step - loss: 0.2799 - accuracy: 0.8813\n",
      "Epoch 51/100\n",
      "24/24 [==============================] - 0s 1ms/step - loss: 0.2790 - accuracy: 0.8840\n",
      "Epoch 52/100\n",
      "24/24 [==============================] - 0s 1ms/step - loss: 0.2781 - accuracy: 0.8867\n",
      "Epoch 53/100\n",
      "24/24 [==============================] - 0s 1ms/step - loss: 0.2774 - accuracy: 0.8853\n",
      "Epoch 54/100\n",
      "24/24 [==============================] - 0s 1ms/step - loss: 0.2765 - accuracy: 0.8880\n",
      "Epoch 55/100\n",
      "24/24 [==============================] - 0s 1ms/step - loss: 0.2756 - accuracy: 0.8880\n",
      "Epoch 56/100\n",
      "24/24 [==============================] - 0s 978us/step - loss: 0.2748 - accuracy: 0.8880\n",
      "Epoch 57/100\n",
      "24/24 [==============================] - 0s 1ms/step - loss: 0.2743 - accuracy: 0.8880\n",
      "Epoch 58/100\n",
      "24/24 [==============================] - 0s 1ms/step - loss: 0.2734 - accuracy: 0.8920\n",
      "Epoch 59/100\n",
      "24/24 [==============================] - 0s 1ms/step - loss: 0.2728 - accuracy: 0.8907\n",
      "Epoch 60/100\n",
      "24/24 [==============================] - 0s 1ms/step - loss: 0.2721 - accuracy: 0.8907\n",
      "Epoch 61/100\n",
      "24/24 [==============================] - 0s 1ms/step - loss: 0.2715 - accuracy: 0.8920\n",
      "Epoch 62/100\n",
      "24/24 [==============================] - 0s 1ms/step - loss: 0.2710 - accuracy: 0.8933\n",
      "Epoch 63/100\n",
      "24/24 [==============================] - 0s 1ms/step - loss: 0.2704 - accuracy: 0.8933\n",
      "Epoch 64/100\n",
      "24/24 [==============================] - 0s 1ms/step - loss: 0.2698 - accuracy: 0.8933\n",
      "Epoch 65/100\n",
      "24/24 [==============================] - 0s 1ms/step - loss: 0.2693 - accuracy: 0.8933\n",
      "Epoch 66/100\n",
      "24/24 [==============================] - 0s 1ms/step - loss: 0.2687 - accuracy: 0.8933\n",
      "Epoch 67/100\n",
      "24/24 [==============================] - 0s 1ms/step - loss: 0.2683 - accuracy: 0.8933\n",
      "Epoch 68/100\n",
      "24/24 [==============================] - 0s 1ms/step - loss: 0.2678 - accuracy: 0.8933\n",
      "Epoch 69/100\n",
      "24/24 [==============================] - 0s 1ms/step - loss: 0.2674 - accuracy: 0.8933\n",
      "Epoch 70/100\n",
      "24/24 [==============================] - 0s 1ms/step - loss: 0.2669 - accuracy: 0.8933\n",
      "Epoch 71/100\n",
      "24/24 [==============================] - 0s 1ms/step - loss: 0.2664 - accuracy: 0.8933\n",
      "Epoch 72/100\n",
      "24/24 [==============================] - 0s 1ms/step - loss: 0.2660 - accuracy: 0.8920\n",
      "Epoch 73/100\n",
      "24/24 [==============================] - 0s 1ms/step - loss: 0.2657 - accuracy: 0.8920\n",
      "Epoch 74/100\n",
      "24/24 [==============================] - 0s 1ms/step - loss: 0.2653 - accuracy: 0.8920\n",
      "Epoch 75/100\n",
      "24/24 [==============================] - 0s 1ms/step - loss: 0.2651 - accuracy: 0.8907\n",
      "Epoch 76/100\n",
      "24/24 [==============================] - 0s 1ms/step - loss: 0.2645 - accuracy: 0.8907\n",
      "Epoch 77/100\n",
      "24/24 [==============================] - 0s 1ms/step - loss: 0.2642 - accuracy: 0.8907\n",
      "Epoch 78/100\n",
      "24/24 [==============================] - 0s 1ms/step - loss: 0.2639 - accuracy: 0.8907\n",
      "Epoch 79/100\n",
      "24/24 [==============================] - 0s 1ms/step - loss: 0.2636 - accuracy: 0.8907\n",
      "Epoch 80/100\n",
      "24/24 [==============================] - 0s 1ms/step - loss: 0.2632 - accuracy: 0.8907\n",
      "Epoch 81/100\n",
      "24/24 [==============================] - 0s 1ms/step - loss: 0.2629 - accuracy: 0.8907\n",
      "Epoch 82/100\n",
      "24/24 [==============================] - 0s 1ms/step - loss: 0.2626 - accuracy: 0.8907\n"
     ]
    },
    {
     "name": "stdout",
     "output_type": "stream",
     "text": [
      "Epoch 83/100\n",
      "24/24 [==============================] - 0s 1ms/step - loss: 0.2623 - accuracy: 0.8907\n",
      "Epoch 84/100\n",
      "24/24 [==============================] - 0s 1ms/step - loss: 0.2621 - accuracy: 0.8920\n",
      "Epoch 85/100\n",
      "24/24 [==============================] - 0s 1ms/step - loss: 0.2618 - accuracy: 0.8920\n",
      "Epoch 86/100\n",
      "24/24 [==============================] - 0s 1ms/step - loss: 0.2616 - accuracy: 0.8907\n",
      "Epoch 87/100\n",
      "24/24 [==============================] - 0s 1ms/step - loss: 0.2613 - accuracy: 0.8907\n",
      "Epoch 88/100\n",
      "24/24 [==============================] - 0s 1ms/step - loss: 0.2610 - accuracy: 0.8920\n",
      "Epoch 89/100\n",
      "24/24 [==============================] - 0s 1ms/step - loss: 0.2607 - accuracy: 0.8920\n",
      "Epoch 90/100\n",
      "24/24 [==============================] - 0s 1ms/step - loss: 0.2604 - accuracy: 0.8920\n",
      "Epoch 91/100\n",
      "24/24 [==============================] - 0s 1ms/step - loss: 0.2602 - accuracy: 0.8920\n",
      "Epoch 92/100\n",
      "24/24 [==============================] - 0s 1ms/step - loss: 0.2600 - accuracy: 0.8920\n",
      "Epoch 93/100\n",
      "24/24 [==============================] - 0s 1ms/step - loss: 0.2598 - accuracy: 0.8920\n",
      "Epoch 94/100\n",
      "24/24 [==============================] - 0s 1ms/step - loss: 0.2595 - accuracy: 0.8920\n",
      "Epoch 95/100\n",
      "24/24 [==============================] - 0s 1ms/step - loss: 0.2593 - accuracy: 0.8920\n",
      "Epoch 96/100\n",
      "24/24 [==============================] - 0s 1ms/step - loss: 0.2591 - accuracy: 0.8920\n",
      "Epoch 97/100\n",
      "24/24 [==============================] - 0s 1ms/step - loss: 0.2590 - accuracy: 0.8920\n",
      "Epoch 98/100\n",
      "24/24 [==============================] - 0s 1ms/step - loss: 0.2587 - accuracy: 0.8920\n",
      "Epoch 99/100\n",
      "24/24 [==============================] - 0s 1ms/step - loss: 0.2586 - accuracy: 0.8920\n",
      "Epoch 100/100\n",
      "24/24 [==============================] - 0s 1ms/step - loss: 0.2583 - accuracy: 0.8920\n"
     ]
    }
   ],
   "source": [
    "# Training the model with the nonlinear data\n",
    "model_moon = nn_model.fit(X_moon_train_scaled, y_moon_train, epochs=100, shuffle=True)"
   ]
  },
  {
   "cell_type": "code",
   "execution_count": 19,
   "metadata": {},
   "outputs": [
    {
     "data": {
      "text/plain": [
       "<matplotlib.axes._subplots.AxesSubplot at 0x7f90d9d6ed50>"
      ]
     },
     "execution_count": 19,
     "metadata": {},
     "output_type": "execute_result"
    },
    {
     "data": {
      "image/png": "[encoded data removed]",
      "text/plain": [
       "<Figure size 432x288 with 1 Axes>"
      ]
     },
     "metadata": {
      "needs_background": "light"
     },
     "output_type": "display_data"
    }
   ],
   "source": [
    "# Create a DataFrame containing training history\n",
    "history_df = pd.DataFrame(model_moon.history, index=range(1,len(model_moon.history[\"loss\"])+1))\n",
    "\n",
    "# Plot the loss\n",
    "history_df.plot(y=\"loss\")"
   ]
  },
  {
   "cell_type": "code",
   "execution_count": 20,
   "metadata": {},
   "outputs": [
    {
     "data": {
      "text/plain": [
       "<matplotlib.axes._subplots.AxesSubplot at 0x7f90da2220d0>"
      ]
     },
     "execution_count": 20,
     "metadata": {},
     "output_type": "execute_result"
    },
    {
     "data": {
      "image/png": "[encoded data removed]",
      "text/plain": [
       "<Figure size 432x288 with 1 Axes>"
      ]
     },
     "metadata": {
      "needs_background": "light"
     },
     "output_type": "display_data"
    }
   ],
   "source": [
    "# Plot the loss\n",
    "history_df.plot(y=\"accuracy\")"
   ]
  },
  {
   "cell_type": "markdown",
   "metadata": {},
   "source": [
    "### Create the Connective Tissue, the Multiple-Neuron Neural Network"
   ]
  },
  {
   "cell_type": "code",
   "execution_count": 21,
   "metadata": {},
   "outputs": [],
   "source": [
    "# Generate our new Sequential model\n",
    "new_model = tf.keras.models.Sequential()"
   ]
  },
  {
   "cell_type": "code",
   "execution_count": 22,
   "metadata": {},
   "outputs": [],
   "source": [
    "# Add the input and hidden layer\n",
    "number_inputs = 2\n",
    "number_hidden_nodes = 6\n",
    "\n",
    "new_model.add(tf.keras.layers.Dense(units=number_hidden_nodes, activation=\"relu\", input_dim=number_inputs))\n",
    "\n",
    "# Add the output layer that uses a probability activation function\n",
    "new_model.add(tf.keras.layers.Dense(units=1, activation=\"sigmoid\"))"
   ]
  },
  {
   "cell_type": "code",
   "execution_count": 23,
   "metadata": {},
   "outputs": [
    {
     "name": "stdout",
     "output_type": "stream",
     "text": [
      "Epoch 1/100\n",
      "24/24 [==============================] - 0s 727us/step - loss: 0.9052 - accuracy: 0.1627\n",
      "Epoch 2/100\n",
      "24/24 [==============================] - 0s 935us/step - loss: 0.8391 - accuracy: 0.3453\n",
      "Epoch 3/100\n",
      "24/24 [==============================] - 0s 758us/step - loss: 0.7833 - accuracy: 0.4920\n",
      "Epoch 4/100\n",
      "24/24 [==============================] - 0s 844us/step - loss: 0.7354 - accuracy: 0.4987\n",
      "Epoch 5/100\n",
      "24/24 [==============================] - 0s 704us/step - loss: 0.6940 - accuracy: 0.5120\n",
      "Epoch 6/100\n",
      "24/24 [==============================] - 0s 707us/step - loss: 0.6582 - accuracy: 0.5187\n",
      "Epoch 7/100\n",
      "24/24 [==============================] - 0s 745us/step - loss: 0.6262 - accuracy: 0.5427\n",
      "Epoch 8/100\n",
      "24/24 [==============================] - 0s 829us/step - loss: 0.5973 - accuracy: 0.5653\n",
      "Epoch 9/100\n",
      "24/24 [==============================] - 0s 794us/step - loss: 0.5710 - accuracy: 0.5933\n",
      "Epoch 10/100\n",
      "24/24 [==============================] - 0s 743us/step - loss: 0.5465 - accuracy: 0.6440\n",
      "Epoch 11/100\n",
      "24/24 [==============================] - 0s 840us/step - loss: 0.5236 - accuracy: 0.6987\n",
      "Epoch 12/100\n",
      "24/24 [==============================] - 0s 749us/step - loss: 0.5020 - accuracy: 0.7613\n",
      "Epoch 13/100\n",
      "24/24 [==============================] - 0s 730us/step - loss: 0.4818 - accuracy: 0.8240\n",
      "Epoch 14/100\n",
      "24/24 [==============================] - 0s 775us/step - loss: 0.4622 - accuracy: 0.8733\n",
      "Epoch 15/100\n",
      "24/24 [==============================] - 0s 810us/step - loss: 0.4436 - accuracy: 0.8800\n",
      "Epoch 16/100\n",
      "24/24 [==============================] - 0s 796us/step - loss: 0.4259 - accuracy: 0.8827\n",
      "Epoch 17/100\n",
      "24/24 [==============================] - 0s 781us/step - loss: 0.4094 - accuracy: 0.8813\n",
      "Epoch 18/100\n",
      "24/24 [==============================] - 0s 835us/step - loss: 0.3938 - accuracy: 0.8813\n",
      "Epoch 19/100\n",
      "24/24 [==============================] - 0s 690us/step - loss: 0.3794 - accuracy: 0.8827\n",
      "Epoch 20/100\n",
      "24/24 [==============================] - 0s 726us/step - loss: 0.3659 - accuracy: 0.8827\n",
      "Epoch 21/100\n",
      "24/24 [==============================] - 0s 775us/step - loss: 0.3539 - accuracy: 0.8813\n",
      "Epoch 22/100\n",
      "24/24 [==============================] - 0s 833us/step - loss: 0.3433 - accuracy: 0.8827\n",
      "Epoch 23/100\n",
      "24/24 [==============================] - 0s 665us/step - loss: 0.3337 - accuracy: 0.8853\n",
      "Epoch 24/100\n",
      "24/24 [==============================] - 0s 727us/step - loss: 0.3251 - accuracy: 0.8853\n",
      "Epoch 25/100\n",
      "24/24 [==============================] - 0s 771us/step - loss: 0.3176 - accuracy: 0.8867\n",
      "Epoch 26/100\n",
      "24/24 [==============================] - 0s 825us/step - loss: 0.3107 - accuracy: 0.8853\n",
      "Epoch 27/100\n",
      "24/24 [==============================] - 0s 764us/step - loss: 0.3048 - accuracy: 0.8853\n",
      "Epoch 28/100\n",
      "24/24 [==============================] - 0s 760us/step - loss: 0.2993 - accuracy: 0.8840\n",
      "Epoch 29/100\n",
      "24/24 [==============================] - 0s 815us/step - loss: 0.2946 - accuracy: 0.8840\n",
      "Epoch 30/100\n",
      "24/24 [==============================] - 0s 861us/step - loss: 0.2902 - accuracy: 0.8853\n",
      "Epoch 31/100\n",
      "24/24 [==============================] - 0s 811us/step - loss: 0.2865 - accuracy: 0.8853\n",
      "Epoch 32/100\n",
      "24/24 [==============================] - 0s 872us/step - loss: 0.2831 - accuracy: 0.8853\n",
      "Epoch 33/100\n",
      "24/24 [==============================] - 0s 894us/step - loss: 0.2801 - accuracy: 0.8867\n",
      "Epoch 34/100\n",
      "24/24 [==============================] - 0s 897us/step - loss: 0.2774 - accuracy: 0.8880\n",
      "Epoch 35/100\n",
      "24/24 [==============================] - 0s 894us/step - loss: 0.2750 - accuracy: 0.8880\n",
      "Epoch 36/100\n",
      "24/24 [==============================] - 0s 908us/step - loss: 0.2731 - accuracy: 0.8867\n",
      "Epoch 37/100\n",
      "24/24 [==============================] - 0s 931us/step - loss: 0.2709 - accuracy: 0.8893\n",
      "Epoch 38/100\n",
      "24/24 [==============================] - 0s 829us/step - loss: 0.2692 - accuracy: 0.8893\n",
      "Epoch 39/100\n",
      "24/24 [==============================] - 0s 782us/step - loss: 0.2675 - accuracy: 0.8893\n",
      "Epoch 40/100\n",
      "24/24 [==============================] - 0s 732us/step - loss: 0.2662 - accuracy: 0.8880\n",
      "Epoch 41/100\n",
      "24/24 [==============================] - 0s 775us/step - loss: 0.2648 - accuracy: 0.8880\n",
      "Epoch 42/100\n",
      "24/24 [==============================] - 0s 861us/step - loss: 0.2637 - accuracy: 0.8880\n",
      "Epoch 43/100\n",
      "24/24 [==============================] - 0s 771us/step - loss: 0.2625 - accuracy: 0.8880\n",
      "Epoch 44/100\n",
      "24/24 [==============================] - 0s 792us/step - loss: 0.2616 - accuracy: 0.8880\n",
      "Epoch 45/100\n",
      "24/24 [==============================] - 0s 710us/step - loss: 0.2606 - accuracy: 0.8893\n",
      "Epoch 46/100\n",
      "24/24 [==============================] - 0s 728us/step - loss: 0.2600 - accuracy: 0.8893\n",
      "Epoch 47/100\n",
      "24/24 [==============================] - 0s 720us/step - loss: 0.2593 - accuracy: 0.8920\n",
      "Epoch 48/100\n",
      "24/24 [==============================] - 0s 686us/step - loss: 0.2586 - accuracy: 0.8920\n",
      "Epoch 49/100\n",
      "24/24 [==============================] - 0s 699us/step - loss: 0.2581 - accuracy: 0.8920\n",
      "Epoch 50/100\n",
      "24/24 [==============================] - 0s 660us/step - loss: 0.2575 - accuracy: 0.8933\n",
      "Epoch 51/100\n",
      "24/24 [==============================] - 0s 638us/step - loss: 0.2571 - accuracy: 0.8933\n",
      "Epoch 52/100\n",
      "24/24 [==============================] - 0s 653us/step - loss: 0.2566 - accuracy: 0.8933\n",
      "Epoch 53/100\n",
      "24/24 [==============================] - 0s 660us/step - loss: 0.2563 - accuracy: 0.8933\n",
      "Epoch 54/100\n",
      "24/24 [==============================] - 0s 676us/step - loss: 0.2559 - accuracy: 0.8933\n",
      "Epoch 55/100\n",
      "24/24 [==============================] - 0s 668us/step - loss: 0.2557 - accuracy: 0.8933\n",
      "Epoch 56/100\n",
      "24/24 [==============================] - 0s 708us/step - loss: 0.2554 - accuracy: 0.8920\n",
      "Epoch 57/100\n",
      "24/24 [==============================] - 0s 729us/step - loss: 0.2552 - accuracy: 0.8920\n",
      "Epoch 58/100\n",
      "24/24 [==============================] - 0s 825us/step - loss: 0.2549 - accuracy: 0.8920\n",
      "Epoch 59/100\n",
      "24/24 [==============================] - 0s 842us/step - loss: 0.2548 - accuracy: 0.8933\n",
      "Epoch 60/100\n",
      "24/24 [==============================] - 0s 896us/step - loss: 0.2546 - accuracy: 0.8920\n",
      "Epoch 61/100\n",
      "24/24 [==============================] - 0s 859us/step - loss: 0.2544 - accuracy: 0.8947\n",
      "Epoch 62/100\n",
      "24/24 [==============================] - 0s 807us/step - loss: 0.2542 - accuracy: 0.8947\n",
      "Epoch 63/100\n",
      "24/24 [==============================] - 0s 821us/step - loss: 0.2541 - accuracy: 0.8947\n",
      "Epoch 64/100\n",
      "24/24 [==============================] - 0s 876us/step - loss: 0.2542 - accuracy: 0.8960\n",
      "Epoch 65/100\n",
      "24/24 [==============================] - 0s 806us/step - loss: 0.2540 - accuracy: 0.8960\n",
      "Epoch 66/100\n",
      "24/24 [==============================] - 0s 833us/step - loss: 0.2538 - accuracy: 0.8960\n",
      "Epoch 67/100\n",
      "24/24 [==============================] - 0s 807us/step - loss: 0.2537 - accuracy: 0.8960\n",
      "Epoch 68/100\n",
      "24/24 [==============================] - 0s 801us/step - loss: 0.2536 - accuracy: 0.8960\n",
      "Epoch 69/100\n",
      "24/24 [==============================] - 0s 802us/step - loss: 0.2534 - accuracy: 0.8973\n",
      "Epoch 70/100\n",
      "24/24 [==============================] - 0s 695us/step - loss: 0.2533 - accuracy: 0.8987\n",
      "Epoch 71/100\n",
      "24/24 [==============================] - 0s 672us/step - loss: 0.2533 - accuracy: 0.8987\n",
      "Epoch 72/100\n",
      "24/24 [==============================] - 0s 675us/step - loss: 0.2532 - accuracy: 0.8987\n",
      "Epoch 73/100\n",
      "24/24 [==============================] - 0s 718us/step - loss: 0.2532 - accuracy: 0.8973\n",
      "Epoch 74/100\n",
      "24/24 [==============================] - 0s 756us/step - loss: 0.2530 - accuracy: 0.8987\n",
      "Epoch 75/100\n",
      "24/24 [==============================] - 0s 732us/step - loss: 0.2528 - accuracy: 0.8987\n",
      "Epoch 76/100\n",
      "24/24 [==============================] - 0s 707us/step - loss: 0.2528 - accuracy: 0.8987\n",
      "Epoch 77/100\n",
      "24/24 [==============================] - 0s 684us/step - loss: 0.2526 - accuracy: 0.8987\n",
      "Epoch 78/100\n",
      "24/24 [==============================] - 0s 769us/step - loss: 0.2524 - accuracy: 0.8987\n",
      "Epoch 79/100\n",
      "24/24 [==============================] - 0s 722us/step - loss: 0.2524 - accuracy: 0.8987\n",
      "Epoch 80/100\n",
      "24/24 [==============================] - 0s 703us/step - loss: 0.2524 - accuracy: 0.8987\n",
      "Epoch 81/100\n"
     ]
    },
    {
     "name": "stdout",
     "output_type": "stream",
     "text": [
      "24/24 [==============================] - 0s 687us/step - loss: 0.2524 - accuracy: 0.8960\n",
      "Epoch 82/100\n",
      "24/24 [==============================] - 0s 685us/step - loss: 0.2521 - accuracy: 0.8960\n",
      "Epoch 83/100\n",
      "24/24 [==============================] - 0s 738us/step - loss: 0.2521 - accuracy: 0.8973\n",
      "Epoch 84/100\n",
      "24/24 [==============================] - 0s 679us/step - loss: 0.2519 - accuracy: 0.8960\n",
      "Epoch 85/100\n",
      "24/24 [==============================] - 0s 676us/step - loss: 0.2519 - accuracy: 0.8973\n",
      "Epoch 86/100\n",
      "24/24 [==============================] - 0s 706us/step - loss: 0.2517 - accuracy: 0.8960\n",
      "Epoch 87/100\n",
      "24/24 [==============================] - 0s 655us/step - loss: 0.2517 - accuracy: 0.8960\n",
      "Epoch 88/100\n",
      "24/24 [==============================] - 0s 705us/step - loss: 0.2516 - accuracy: 0.8960\n",
      "Epoch 89/100\n",
      "24/24 [==============================] - 0s 695us/step - loss: 0.2515 - accuracy: 0.8960\n",
      "Epoch 90/100\n",
      "24/24 [==============================] - 0s 654us/step - loss: 0.2514 - accuracy: 0.8987\n",
      "Epoch 91/100\n",
      "24/24 [==============================] - 0s 658us/step - loss: 0.2513 - accuracy: 0.8960\n",
      "Epoch 92/100\n",
      "24/24 [==============================] - 0s 647us/step - loss: 0.2514 - accuracy: 0.8960\n",
      "Epoch 93/100\n",
      "24/24 [==============================] - 0s 736us/step - loss: 0.2512 - accuracy: 0.8960\n",
      "Epoch 94/100\n",
      "24/24 [==============================] - 0s 701us/step - loss: 0.2511 - accuracy: 0.8960\n",
      "Epoch 95/100\n",
      "24/24 [==============================] - 0s 839us/step - loss: 0.2511 - accuracy: 0.8960\n",
      "Epoch 96/100\n",
      "24/24 [==============================] - 0s 769us/step - loss: 0.2509 - accuracy: 0.8960\n",
      "Epoch 97/100\n",
      "24/24 [==============================] - 0s 861us/step - loss: 0.2510 - accuracy: 0.8960\n",
      "Epoch 98/100\n",
      "24/24 [==============================] - 0s 853us/step - loss: 0.2509 - accuracy: 0.8960\n",
      "Epoch 99/100\n",
      "24/24 [==============================] - 0s 863us/step - loss: 0.2508 - accuracy: 0.8960\n",
      "Epoch 100/100\n",
      "24/24 [==============================] - 0s 807us/step - loss: 0.2506 - accuracy: 0.8960\n"
     ]
    }
   ],
   "source": [
    "# Compile the Sequential model together and customize metrics\n",
    "new_model.compile(loss=\"binary_crossentropy\", optimizer=\"adam\", metrics=[\"accuracy\"])\n",
    "\n",
    "# Fit the model to the training data\n",
    "new_fit_model = new_model.fit(X_moon_train_scaled, y_moon_train, epochs=100, shuffle=True)"
   ]
  },
  {
   "cell_type": "code",
   "execution_count": null,
   "metadata": {},
   "outputs": [],
   "source": []
  }
 ],
 "metadata": {
  "kernelspec": {
   "display_name": "PythonData",
   "language": "python",
   "name": "pythondata"
  },
  "language_info": {
   "codemirror_mode": {
    "name": "ipython",
    "version": 3
   },
   "file_extension": ".py",
   "mimetype": "text/x-python",
   "name": "python",
   "nbconvert_exporter": "python",
   "pygments_lexer": "ipython3",
   "version": "3.7.6"
  }
 },
 "nbformat": 4,
 "nbformat_minor": 4
}
